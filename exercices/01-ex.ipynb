{
 "cells": [
  {
   "cell_type": "markdown",
   "metadata": {},
   "source": [
    "# Exercises 01\n",
    "\n",
    "### Mathematical operations with variable and conditionals"
   ]
  },
  {
   "cell_type": "code",
   "execution_count": 1,
   "metadata": {},
   "outputs": [],
   "source": [
    "import numpy as np"
   ]
  },
  {
   "cell_type": "markdown",
   "metadata": {},
   "source": [
    "1. Add the value 10 to 30 and display it on screen"
   ]
  },
  {
   "cell_type": "code",
   "execution_count": 2,
   "metadata": {},
   "outputs": [
    {
     "name": "stdout",
     "output_type": "stream",
     "text": [
      "40\n"
     ]
    }
   ],
   "source": [
    "sum1 = 10 + 30\n",
    "print(sum1)"
   ]
  },
  {
   "cell_type": "markdown",
   "metadata": {},
   "source": [
    "2. Add the following number: 10, 300, 0.4, 10"
   ]
  },
  {
   "cell_type": "code",
   "execution_count": 3,
   "metadata": {},
   "outputs": [
    {
     "name": "stdout",
     "output_type": "stream",
     "text": [
      "320.4\n"
     ]
    }
   ],
   "source": [
    "sum2 = 10 + 300 + 0.4 + 10\n",
    "print(sum2)"
   ]
  },
  {
   "cell_type": "code",
   "execution_count": 4,
   "metadata": {},
   "outputs": [
    {
     "data": {
      "text/plain": [
       "320.4"
      ]
     },
     "execution_count": 4,
     "metadata": {},
     "output_type": "execute_result"
    }
   ],
   "source": [
    "np.sum([10, 300, 0.4, 10])"
   ]
  },
  {
   "cell_type": "markdown",
   "metadata": {},
   "source": [
    "3. Develop commands in Python capable of calculating the harmonic mean between 5 numbers\n"
   ]
  },
  {
   "cell_type": "code",
   "execution_count": 5,
   "metadata": {},
   "outputs": [
    {
     "data": {
      "text/plain": [
       "3.8135593220338984"
      ]
     },
     "execution_count": 5,
     "metadata": {},
     "output_type": "execute_result"
    }
   ],
   "source": [
    "5 / (1 / 2 + 1 / 3 + 1 / 5 + 1 / 6 + 1 / 9)"
   ]
  },
  {
   "cell_type": "code",
   "execution_count": 6,
   "metadata": {},
   "outputs": [],
   "source": [
    "x1 = int(input(\"Enter the value: \"))\n",
    "x2 = int(input(\"Enter the value: \"))\n",
    "x3 = int(input(\"Enter the value: \"))\n",
    "x4 = int(input(\"Enter the value: \"))\n",
    "x5 = int(input(\"Enter the value: \"))\n",
    "\n",
    "n = 5"
   ]
  },
  {
   "cell_type": "code",
   "execution_count": 7,
   "metadata": {},
   "outputs": [
    {
     "name": "stdout",
     "output_type": "stream",
     "text": [
      "The value of harmonic mean is: 5.24\n"
     ]
    }
   ],
   "source": [
    "harmonic_mean = n / (1 / x1 + 1 / x2 + 1 / x3 + 1 / x4 + 1 / x5)\n",
    "print(f\"The value of harmonic mean is: {harmonic_mean:.2f}\")"
   ]
  },
  {
   "cell_type": "markdown",
   "metadata": {},
   "source": [
    "4. A Junior Data Scientist needs to create a sequence of commands that is capable of calculating the weighted average of the values ​​entered by the user. The user is able to enter 8 values. The first number has a weight of 0.5, the second 1.0, the third 1.5 until the last value which has a weight of 4, that is, the weights are increased by 0.5 for each value. Therefore, the algorithm must be able to calculate the weighted average of the eight values ​​entered by the user, each value with its respective weight."
   ]
  },
  {
   "cell_type": "code",
   "execution_count": 8,
   "metadata": {},
   "outputs": [],
   "source": [
    "v1 = int(input(\"Enter the value: \"))\n",
    "v2 = int(input(\"Enter the value: \"))\n",
    "v3 = int(input(\"Enter the value: \"))\n",
    "v4 = int(input(\"Enter the value: \"))\n",
    "v5 = int(input(\"Enter the value: \"))\n",
    "v6 = int(input(\"Enter the value: \"))\n",
    "v7 = int(input(\"Enter the value: \"))\n",
    "v8 = int(input(\"Enter the value: \"))\n",
    "\n",
    "w1 = 0.5\n",
    "w2 = 1.0\n",
    "w3 = 1.5\n",
    "w4 = 2.0\n",
    "w5 = 2.5\n",
    "w6 = 3.0\n",
    "w7 = 3.5\n",
    "w8 = 4.0"
   ]
  },
  {
   "cell_type": "code",
   "execution_count": 9,
   "metadata": {},
   "outputs": [
    {
     "name": "stdout",
     "output_type": "stream",
     "text": [
      "The value of weighted mean is: 6.78\n"
     ]
    }
   ],
   "source": [
    "numerator = (\n",
    "    v1 * w1 + v2 * w2 + v3 * w3 + v4 * w4 + v5 * w5 + v6 * w6 + v7 * w7 + v8 * w8\n",
    ")\n",
    "denominator = w1 + w2 + w3 + w4 + w5 + w6 + w7 + w8\n",
    "\n",
    "weighted_mean = numerator / denominator\n",
    "\n",
    "print(f\"The value of weighted mean is: {weighted_mean:.2f}\")"
   ]
  },
  {
   "cell_type": "markdown",
   "metadata": {},
   "source": [
    "5. A Junior Programmer needs to build a mini calculator. This calculator follows the following standards:\n",
    "\n",
    "a. If the user digitizes a value less than or equal to 5, the calculator will multiply that value by 10 and return the resulting value to the user\n",
    "\n",
    "b. If the user enters a number between 6 and 10, the calculator multiplies the number entered by  20\n",
    "\n",
    "c. If the user enters a value greater than or equal to 11, the calculator adds 100 to the number entered.\n",
    "\n",
    "Help Junior Programmer build this calculator by providing him with Python commands."
   ]
  },
  {
   "cell_type": "code",
   "execution_count": 10,
   "metadata": {},
   "outputs": [
    {
     "name": "stdout",
     "output_type": "stream",
     "text": [
      "30\n"
     ]
    }
   ],
   "source": [
    "value = int(input(\"Enter a value: \"))\n",
    "\n",
    "if value <= 5:\n",
    "    result = value * 10\n",
    "elif value < 10:\n",
    "    result = value * 20\n",
    "else:\n",
    "    result = value + 100\n",
    "\n",
    "print(result)"
   ]
  },
  {
   "cell_type": "markdown",
   "metadata": {},
   "source": [
    "6. A Junior Programmer needs to create an algorithm that can compare three values ​​and display which is the largest and which is the smallest value entered. Help the programmer by developing a code in Python."
   ]
  },
  {
   "cell_type": "code",
   "execution_count": 11,
   "metadata": {},
   "outputs": [
    {
     "name": "stdout",
     "output_type": "stream",
     "text": [
      "The biggest value is 7\n",
      "The smallest value is 5\n"
     ]
    }
   ],
   "source": [
    "n1 = int(input(\"Enter a value: \"))\n",
    "n2 = int(input(\"Enter a value: \"))\n",
    "n3 = int(input(\"Enter a value: \"))\n",
    "\n",
    "bigger = n1\n",
    "\n",
    "if n2 > bigger:\n",
    "    bigger = n2\n",
    "if n3 > bigger:\n",
    "    bigger = n3\n",
    "\n",
    "smaller = n1\n",
    "\n",
    "if n2 < smaller:\n",
    "    smaller = n2\n",
    "if n3 < smaller:\n",
    "    smaller = n3\n",
    "\n",
    "print(f\"The biggest value is {bigger}\")\n",
    "print(f\"The smallest value is {smaller}\")"
   ]
  }
 ],
 "metadata": {
  "kernelspec": {
   "display_name": ".venv",
   "language": "python",
   "name": "python3"
  },
  "language_info": {
   "codemirror_mode": {
    "name": "ipython",
    "version": 3
   },
   "file_extension": ".py",
   "mimetype": "text/x-python",
   "name": "python",
   "nbconvert_exporter": "python",
   "pygments_lexer": "ipython3",
   "version": "3.12.2"
  }
 },
 "nbformat": 4,
 "nbformat_minor": 2
}
